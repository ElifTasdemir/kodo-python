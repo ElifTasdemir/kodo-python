{
 "cells": [
  {
   "cell_type": "markdown",
   "metadata": {},
   "source": [
    "# Full Vector vs Sliding Window Decoder Delay "
   ]
  },
  {
   "cell_type": "markdown",
   "metadata": {},
   "source": [
    "The purpose of this notebook is to demonstrate the ``SlidingWindowDecoder``'s decreased decoding delay, compared to the block based ``FullVectorDecoder``.\n",
    "\n",
    "The decreased decoding delay is useful in certain use cases where latency is crucial."
   ]
  },
  {
   "cell_type": "markdown",
   "metadata": {},
   "source": [
    "By using the ``full_vector_vs_sliding_window.benchmark`` we can collect the needed data. Lets first look at the code for the data collection (we use the ``inspect`` module to get the benchmark code):"
   ]
  },
  {
   "cell_type": "code",
   "execution_count": 1,
   "metadata": {
    "collapsed": false
   },
   "outputs": [
    {
     "name": "stdout",
     "output_type": "stream",
     "text": [
      "def benchmark(encoder, decoder, channel_condition):\n",
      "    \"\"\"Full vector vs sliding window benchmark.\"\"\"\n",
      "    # Create some data to encode. In this case we make a buffer\n",
      "    # with the same size as the encoder's block size (the max.\n",
      "    # amount a single encoder can encode)\n",
      "    # Just for fun - fill the input data with random data\n",
      "    data_in = os.urandom(encoder.block_size())\n",
      "\n",
      "    # Let's split the data into symbols and feed the encoder one symbol at a\n",
      "    # time\n",
      "    symbol_storage = [\n",
      "        data_in[i:i + encoder.symbol_size()]\n",
      "        for i in range(0, len(data_in), encoder.symbol_size())\n",
      "    ]\n",
      "\n",
      "    results = {}\n",
      "    ticks = 0\n",
      "    while not decoder.is_complete():\n",
      "        ticks += 1\n",
      "        rank = encoder.rank()\n",
      "        if rank < encoder.symbols():\n",
      "            encoder.set_const_symbol(rank, symbol_storage[rank])\n",
      "\n",
      "        # Check if we can start the transmission before having all the data.\n",
      "        # if not hasattr(encoder, 'read_feedback') and \\\n",
      "        #    rank != encoder.symbols():\n",
      "        #     continue\n",
      "\n",
      "        # Encode a packet into the payload buffer\n",
      "        packet = encoder.write_payload()\n",
      "\n",
      "        # Send the data to the decoders, here we just for fun\n",
      "        # simulate that we are loosing 50% of the packets\n",
      "        if random.random() > channel_condition:\n",
      "            # Packet got through - pass that packet to the decoder\n",
      "            decoder.read_payload(packet)\n",
      "\n",
      "            for symbol_index in range(encoder.symbols()):\n",
      "                if symbol_index in results:\n",
      "                    continue\n",
      "                if decoder.is_symbol_uncoded(symbol_index):\n",
      "                    results[symbol_index] = ticks\n",
      "\n",
      "        if not hasattr(encoder, 'read_feedback'):\n",
      "            continue\n",
      "\n",
      "        # Transmit the feedback\n",
      "        feedback = decoder.write_feedback()\n",
      "\n",
      "        # Simulate loss of feedback\n",
      "        if random.random() < channel_condition:\n",
      "            continue\n",
      "\n",
      "        encoder.read_feedback(feedback)\n",
      "\n",
      "    # The decoder is complete, now copy the symbols from the decoder\n",
      "    data_out = decoder.copy_from_symbols()\n",
      "\n",
      "    # Check we properly decoded the data\n",
      "    if data_out == data_in:\n",
      "        return results\n",
      "    else:\n",
      "        return None\n",
      "\n"
     ]
    }
   ],
   "source": [
    "import full_vector_vs_sliding_window\n",
    "import inspect\n",
    "print(\"\".join(inspect.getsourcelines(full_vector_vs_sliding_window.benchmark)[0]))\n"
   ]
  },
  {
   "cell_type": "markdown",
   "metadata": {},
   "source": [
    "Using this function we simply need to provide it with an encoder, decoder and channel condition. This is done for both codecs."
   ]
  },
  {
   "cell_type": "code",
   "execution_count": 2,
   "metadata": {
    "collapsed": false,
    "scrolled": false
   },
   "outputs": [
    {
     "data": {
      "image/png": "[encoded data removed]",
      "text/plain": [
       "<matplotlib.figure.Figure at 0x7fa5990a48d0>"
      ]
     },
     "metadata": {},
     "output_type": "display_data"
    }
   ],
   "source": [
    "import kodo\n",
    "import full_vector_vs_sliding_window\n",
    "\n",
    "symbols = 100\n",
    "symbol_size = 250\n",
    "\n",
    "# In the following we will make an encoder/decoder factory.\n",
    "# The factories are used to build actual encoders/decoders\n",
    "sliding_window_encoder_factory = kodo.SlidingWindowEncoderFactoryBinary8(\n",
    "    max_symbols=symbols,\n",
    "    max_symbol_size=symbol_size)\n",
    "\n",
    "sliding_window_encoder = sliding_window_encoder_factory.build()\n",
    "\n",
    "sliding_window_decoder_factory = kodo.SlidingWindowDecoderFactoryBinary8(\n",
    "    max_symbols=symbols,\n",
    "    max_symbol_size=symbol_size)\n",
    "\n",
    "sliding_window_decoder = sliding_window_decoder_factory.build()\n",
    "\n",
    "full_vector_encoder_factory = kodo.FullVectorEncoderFactoryBinary8(\n",
    "    max_symbols=symbols,\n",
    "    max_symbol_size=symbol_size)\n",
    "\n",
    "full_vector_encoder = full_vector_encoder_factory.build()\n",
    "\n",
    "full_vector_decoder_factory = kodo.FullVectorDecoderFactoryBinary8(\n",
    "    max_symbols=symbols,\n",
    "    max_symbol_size=symbol_size)\n",
    "\n",
    "full_vector_decoder = full_vector_decoder_factory.build()\n",
    "\n",
    "# Set the channel condition\n",
    "channel_condition = 0.5\n",
    "\n",
    "full_vector_results = full_vector_vs_sliding_window.benchmark(\n",
    "    full_vector_encoder, full_vector_decoder, channel_condition)\n",
    "\n",
    "sliding_window_results = full_vector_vs_sliding_window.benchmark(\n",
    "    sliding_window_encoder, sliding_window_decoder, channel_condition)\n",
    "\n",
    "%matplotlib inline\n",
    "import numpy as np\n",
    "import matplotlib\n",
    "\n",
    "from matplotlib import pyplot as plt\n",
    "\n",
    "plt.figure(figsize=(12, 12))\n",
    "\n",
    "plt.xlabel('Symbol ID')\n",
    "plt.ylabel('Ticks')\n",
    "\n",
    "plt.bar(\n",
    "    full_vector_results.keys(),\n",
    "    full_vector_results.values(),\n",
    "    color='red',\n",
    "    alpha=0.5,\n",
    "    label=\"FullVector\")\n",
    "\n",
    "plt.bar(\n",
    "    sliding_window_results.keys(),\n",
    "    sliding_window_results.values(),\n",
    "    color='blue',\n",
    "    alpha=0.5,\n",
    "    label=\"SlidingWindow\")\n",
    "\n",
    "plt.legend(loc='best')\n",
    "pass"
   ]
  }
 ],
 "metadata": {
  "kernelspec": {
   "display_name": "Python 2",
   "language": "python",
   "name": "python2"
  },
  "language_info": {
   "codemirror_mode": {
    "name": "ipython",
    "version": 2
   },
   "file_extension": ".py",
   "mimetype": "text/x-python",
   "name": "python",
   "nbconvert_exporter": "python",
   "pygments_lexer": "ipython2",
   "version": "2.7.9"
  }
 },
 "nbformat": 4,
 "nbformat_minor": 0
}
