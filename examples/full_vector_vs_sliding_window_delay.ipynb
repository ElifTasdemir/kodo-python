{
 "cells": [
  {
   "cell_type": "markdown",
   "metadata": {},
   "source": [
    "# Full Vector vs Sliding Window Decoder Delay "
   ]
  },
  {
   "cell_type": "markdown",
   "metadata": {},
   "source": [
    "The purpose of this notebook is to demonstrate the ``SlidingWindowDecoder``'s decreased decoding delay, compared to the block based ``FullVectorDecoder``."
   ]
  },
  {
   "cell_type": "markdown",
   "metadata": {},
   "source": [
    "By using the ``full_vector_vs_sliding_window.benchmark``, located in the examples folder, we can collect the needed data.\n",
    "Lets first look at the benchmark code, we use the ``inspect`` for this:"
   ]
  },
  {
   "cell_type": "code",
   "execution_count": 1,
   "metadata": {
    "collapsed": false
   },
   "outputs": [
    {
     "name": "stdout",
     "output_type": "stream",
     "text": [
      "def benchmark(encoder, decoder, channel_condition, data_availablity):\n",
      "    \"\"\"Full vector vs sliding window benchmark.\"\"\"\n",
      "    # Create some data to encode. In this case we make a buffer\n",
      "    # with the same size as the encoder's block size (the max.\n",
      "    # amount a single encoder can encode)\n",
      "    # Just for fun - fill the input data with random data\n",
      "    data_in = os.urandom(encoder.block_size())\n",
      "\n",
      "    # Let's split the data into symbols and feed the encoder one symbol at a\n",
      "    # time\n",
      "    symbol_storage = [\n",
      "        data_in[i:i + encoder.symbol_size()]\n",
      "        for i in range(0, len(data_in), encoder.symbol_size())\n",
      "    ]\n",
      "\n",
      "    results = {}\n",
      "    ticks = 0\n",
      "    packet = None\n",
      "    while not decoder.is_complete():\n",
      "        ticks += 1\n",
      "        rank = encoder.rank()\n",
      "        # Is new data available?\n",
      "        if rank < encoder.symbols() and random.random() < data_availablity:\n",
      "            encoder.set_const_symbol(rank, symbol_storage[rank])\n",
      "            # regardless of the codec we can always send the data systematic\n",
      "            # rightway.\n",
      "            packet = encoder.write_payload()\n",
      "        else:\n",
      "            got_all_data = (rank == encoder.symbols())\n",
      "            is_sliding_window = hasattr(encoder, 'read_feedback')\n",
      "            if got_all_data or is_sliding_window:\n",
      "                # Encode a packet into the payload buffer\n",
      "                packet = encoder.write_payload()\n",
      "\n",
      "        if packet is None:\n",
      "            continue\n",
      "\n",
      "        # Send the data to the decoders, here we just for fun\n",
      "        # simulate that we are loosing 50% of the packets\n",
      "        if random.random() > channel_condition:\n",
      "            # Packet got through - pass that packet to the decoder\n",
      "            decoder.read_payload(packet)\n",
      "\n",
      "            for symbol_index in range(encoder.symbols()):\n",
      "                if symbol_index in results:\n",
      "                    continue\n",
      "                decoder_symbol = decoder.copy_from_symbol(symbol_index)\n",
      "                encoder_symbol = symbol_storage[symbol_index]\n",
      "                # if decoder.is_symbol_uncoded(symbol_index):\n",
      "                if decoder_symbol == encoder_symbol:\n",
      "                    results[symbol_index] = ticks\n",
      "\n",
      "        if not hasattr(encoder, 'read_feedback'):\n",
      "            continue\n",
      "\n",
      "        # Transmit the feedback\n",
      "        feedback = decoder.write_feedback()\n",
      "\n",
      "        # Simulate loss of feedback\n",
      "        if random.random() < channel_condition:\n",
      "            continue\n",
      "\n",
      "        encoder.read_feedback(feedback)\n",
      "\n",
      "    # The decoder is complete, now copy the symbols from the decoder\n",
      "    data_out = decoder.copy_from_symbols()\n",
      "\n",
      "    # Check we properly decoded the data\n",
      "    if data_out == data_in:\n",
      "        return results\n",
      "    else:\n",
      "        return None\n",
      "\n"
     ]
    }
   ],
   "source": [
    "import full_vector_vs_sliding_window\n",
    "import inspect\n",
    "print(\"\".join(inspect.getsourcelines(full_vector_vs_sliding_window.benchmark)[0]))\n"
   ]
  },
  {
   "cell_type": "markdown",
   "metadata": {},
   "source": [
    "As seen from the implementation, the benchmark requires four arguments.\n",
    "* Encoder,\n",
    "* Decoder,\n",
    "* Channel Condition, i.e. the error probability of the channel (both for data and feedback), and finally\n",
    "* Data delivery which is a value which specifies the likely hood of new data being available.\n",
    "\n",
    "Lets first create the needed encoders and decoders:"
   ]
  },
  {
   "cell_type": "code",
   "execution_count": 2,
   "metadata": {
    "collapsed": true
   },
   "outputs": [],
   "source": [
    "import kodo\n",
    "import full_vector_vs_sliding_window\n",
    "\n",
    "symbols = 100\n",
    "symbol_size = 250\n",
    "\n",
    "# In the following we will make an encoder/decoder factory.\n",
    "# The factories are used to build actual encoders/decoders\n",
    "sliding_window_encoder_factory = kodo.SlidingWindowEncoderFactoryBinary8(\n",
    "    max_symbols=symbols,\n",
    "    max_symbol_size=symbol_size)\n",
    "\n",
    "sliding_window_encoder = sliding_window_encoder_factory.build()\n",
    "\n",
    "sliding_window_decoder_factory = kodo.SlidingWindowDecoderFactoryBinary8(\n",
    "    max_symbols=symbols,\n",
    "    max_symbol_size=symbol_size)\n",
    "\n",
    "sliding_window_decoder = sliding_window_decoder_factory.build()\n",
    "\n",
    "full_vector_encoder_factory = kodo.FullVectorEncoderFactoryBinary8(\n",
    "    max_symbols=symbols,\n",
    "    max_symbol_size=symbol_size)\n",
    "\n",
    "full_vector_encoder = full_vector_encoder_factory.build()\n",
    "\n",
    "full_vector_decoder_factory = kodo.FullVectorDecoderFactoryBinary8(\n",
    "    max_symbols=symbols,\n",
    "    max_symbol_size=symbol_size)\n",
    "\n",
    "full_vector_decoder = full_vector_decoder_factory.build()\n"
   ]
  },
  {
   "cell_type": "markdown",
   "metadata": {},
   "source": [
    "Then set the benchmark parameters:"
   ]
  },
  {
   "cell_type": "code",
   "execution_count": 3,
   "metadata": {
    "collapsed": true
   },
   "outputs": [],
   "source": [
    "# Set the channel condition\n",
    "channel_condition = 0.5\n",
    "# Set data availablity\n",
    "data_availablity = 0.4"
   ]
  },
  {
   "cell_type": "markdown",
   "metadata": {},
   "source": [
    "Now that we have all the required information we can run the test."
   ]
  },
  {
   "cell_type": "code",
   "execution_count": 4,
   "metadata": {
    "collapsed": true
   },
   "outputs": [],
   "source": [
    "full_vector_results = full_vector_vs_sliding_window.benchmark(\n",
    "    full_vector_encoder, full_vector_decoder, channel_condition,\n",
    "    data_availablity)\n",
    "\n",
    "sliding_window_results = full_vector_vs_sliding_window.benchmark(\n",
    "    sliding_window_encoder, sliding_window_decoder, channel_condition,\n",
    "    data_availablity)"
   ]
  },
  {
   "cell_type": "markdown",
   "metadata": {},
   "source": [
    "Using matplotlib we can plot the results and get an overview."
   ]
  },
  {
   "cell_type": "code",
   "execution_count": 5,
   "metadata": {
    "collapsed": false,
    "scrolled": false
   },
   "outputs": [
    {
     "data": {
      "image/png": "[encoded data removed]",
      "text/plain": [
       "<matplotlib.figure.Figure at 0x7f184c065490>"
      ]
     },
     "metadata": {},
     "output_type": "display_data"
    },
    {
     "data": {
      "image/png": "[encoded data removed]",
      "text/plain": [
       "<matplotlib.figure.Figure at 0x7f182c7d3110>"
      ]
     },
     "metadata": {},
     "output_type": "display_data"
    }
   ],
   "source": [
    "%matplotlib inline\n",
    "import matplotlib\n",
    "\n",
    "from matplotlib import pyplot as plt\n",
    "\n",
    "# split plots\n",
    "f, (ax1, ax2) = plt.subplots(1, 2, sharey=True, figsize=(18, 6), subplot_kw={'ylabel':'Ticks', 'xlabel':'Symbol ID'})\n",
    "plt.ylabel(\"\")\n",
    "\n",
    "ax1.set_title(\"FullVector\")\n",
    "ax1.bar(\n",
    "    full_vector_results.keys(),\n",
    "    full_vector_results.values(),\n",
    "    color='red',\n",
    "    alpha=0.5)\n",
    "ax2.set_title(\"SlidingWindow\")\n",
    "ax2.bar(\n",
    "    sliding_window_results.keys(),\n",
    "    sliding_window_results.values(),\n",
    "    color='blue',\n",
    "    alpha=0.5)\n",
    "\n",
    "#single plot\n",
    "\n",
    "plt.figure(figsize=(18, 12))\n",
    "\n",
    "plt.xlabel('Symbol ID')\n",
    "plt.ylabel('Ticks')\n",
    "\n",
    "plt.bar(\n",
    "    full_vector_results.keys(),\n",
    "    full_vector_results.values(),\n",
    "    color='red',\n",
    "    alpha=0.5,\n",
    "    label=\"FullVector\")\n",
    "\n",
    "plt.bar(\n",
    "    sliding_window_results.keys(),\n",
    "    sliding_window_results.values(),\n",
    "    color='blue',\n",
    "    alpha=0.5,\n",
    "    label=\"SlidingWindow\")\n",
    "\n",
    "plt.legend(loc='best')\n",
    "\n",
    "pass"
   ]
  },
  {
   "cell_type": "markdown",
   "metadata": {
    "collapsed": true
   },
   "source": [
    "From the graph it can be seen that the sliding window codec has an overall lower latency for the whole generation and also for most of the induvidual symbols."
   ]
  }
 ],
 "metadata": {
  "kernelspec": {
   "display_name": "Python 2",
   "language": "python",
   "name": "python2"
  },
  "language_info": {
   "codemirror_mode": {
    "name": "ipython",
    "version": 2
   },
   "file_extension": ".py",
   "mimetype": "text/x-python",
   "name": "python",
   "nbconvert_exporter": "python",
   "pygments_lexer": "ipython2",
   "version": "2.7.9"
  }
 },
 "nbformat": 4,
 "nbformat_minor": 0
}
